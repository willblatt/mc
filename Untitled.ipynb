{
 "cells": [
  {
   "cell_type": "code",
   "execution_count": null,
   "metadata": {
    "collapsed": true
   },
   "outputs": [],
   "source": [
    "from scipy import stats\n",
    "\n",
    "\n",
    "def model(*dists, **scalars):\n",
    "    return scalars['offset'] + dists[0] * dists[1]\n",
    "\n",
    "dists = [stats.norm(10, 2),\n",
    "         stats.norm(20, 2)]\n",
    "\n",
    "scalars = {'offset': 4}\n",
    "\n",
    "n_trials = 2000000\n",
    "percentiles = [0.005,\n",
    "               0.010,\n",
    "               0.020,\n",
    "               0.100,\n",
    "               01.00,\n",
    "               10.00,\n",
    "               50.00,\n",
    "               90.00,\n",
    "               99.00,\n",
    "               99.90,\n",
    "               99.98,\n",
    "               99.99,\n",
    "               99.995]\n",
    "\n",
    "# Set up variates and run model\n",
    "rand_variates = [dist.rvs(size=n_trials) for dist in dists]\n",
    "vals = [model(*var, **scalars) for var in zip(*rand_variates)]\n",
    "\n",
    "# Calculate individual sensitivities for each distribution\n",
    "rank_corr_coefs = [stats.spearmanr(var, vals)[0] ** 2 for var in rand_variates]\n",
    "sensitivities = [rcc / sum(rank_corr_coefs) for rcc in rank_corr_coefs]\n",
    "scores = [stats.scoreatpercentile(vals, per) for per in percentiles]\n",
    "\n",
    "print('rectangle')\n",
    "print('width  --> norm dist; mean=10, std=2')\n",
    "print('height --> norm dist; mean=20, std=2')\n",
    "\n",
    "# Sensitivities to input distributions\n",
    "print('Sensitivities of w, h to rectangle area')\n",
    "for i, s in enumerate(sensitivities):\n",
    "    print(i, '{0:.3f}'.format(s))\n",
    "\n",
    "print('---')\n",
    "\n",
    "# Probabilities for of the percentiles\n",
    "for s, v in zip(percentiles, scores):\n",
    "    print(s,\n",
    "          'chance area of rectangle will be',\n",
    "          '{0:.3f}'.format(v))"
   ]
  }
 ],
 "metadata": {
  "kernelspec": {
   "display_name": "Python 3",
   "language": "python",
   "name": "python3"
  },
  "language_info": {
   "codemirror_mode": {
    "name": "ipython",
    "version": 3
   },
   "file_extension": ".py",
   "mimetype": "text/x-python",
   "name": "python",
   "nbconvert_exporter": "python",
   "pygments_lexer": "ipython3",
   "version": "3.5.2"
  }
 },
 "nbformat": 4,
 "nbformat_minor": 0
}
